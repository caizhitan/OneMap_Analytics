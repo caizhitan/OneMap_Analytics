{
 "cells": [
  {
   "cell_type": "markdown",
   "metadata": {},
   "source": [
    "## Collecting our All our Data using AWS and API Requests"
   ]
  },
  {
   "cell_type": "markdown",
   "metadata": {},
   "source": [
    "## Import Libraries"
   ]
  },
  {
   "cell_type": "code",
   "execution_count": null,
   "metadata": {},
   "outputs": [],
   "source": [
    "import requests\n",
    "import os\n",
    "import io\n",
    "import boto3\n",
    "import time\n",
    "import csv\n",
    "import sys\n",
    "from concurrent.futures import ThreadPoolExecutor, as_completed\n",
    "from dotenv import load_dotenv\n",
    "load_dotenv()"
   ]
  },
  {
   "cell_type": "markdown",
   "metadata": {},
   "source": [
    "## Starting our AWS Session"
   ]
  },
  {
   "cell_type": "code",
   "execution_count": null,
   "metadata": {},
   "outputs": [],
   "source": [
    "session = boto3.Session(profile_name='personal-onemap')\n",
    "s3 = session.resource('s3')"
   ]
  },
  {
   "cell_type": "markdown",
   "metadata": {},
   "source": [
    "## Import API Authorisation Key"
   ]
  },
  {
   "cell_type": "code",
   "execution_count": null,
   "metadata": {},
   "outputs": [],
   "source": [
    "# For OneMap Account Key\n",
    "account_key = os.getenv('ONEMAP_KEY')\n",
    "headers = {'Authorization': f'Bearer {account_key}'}\n"
   ]
  },
  {
   "cell_type": "markdown",
   "metadata": {},
   "source": [
    "## Count number of areas in Singapore"
   ]
  },
  {
   "cell_type": "code",
   "execution_count": null,
   "metadata": {},
   "outputs": [],
   "source": [
    "api_url = \"https://www.onemap.gov.sg/api/public/popapi/getPlanningareaNames?year=2019\" # Latest area info from 2019\n",
    "\n",
    "response = requests.get(api_url, headers=headers, timeout=1)\n",
    "data = response.json()\n",
    "\n",
    "# Count number of area codes\n",
    "area_count = sum(1 for item in data if \"pln_area_n\" in item)\n",
    "print(f'Number of areas: {area_count}')\n",
    "\n",
    "# Save our area codes into List\n",
    "area_list = [item['pln_area_n'] for item in data if \"pln_area_n\" in item]\n",
    "print(area_list)\n"
   ]
  },
  {
   "cell_type": "markdown",
   "metadata": {},
   "source": [
    "## Test API Output for Economic Status"
   ]
  },
  {
   "cell_type": "code",
   "execution_count": null,
   "metadata": {},
   "outputs": [],
   "source": [
    "response = requests.get(f\"https://www.onemap.gov.sg/api/public/popapi/getEconomicStatus?planningArea=Bedok&year=2010\", headers=headers, timeout=1)\n",
    "data = response.json()\n",
    "\n",
    "\n",
    "print(response)\n",
    "print(data)"
   ]
  },
  {
   "cell_type": "markdown",
   "metadata": {},
   "source": [
    "## Slow Method: Synchronous Requests (Economic Status)"
   ]
  },
  {
   "cell_type": "code",
   "execution_count": null,
   "metadata": {},
   "outputs": [],
   "source": [
    "years = ['2000', '2010', '2015', '2020'] \n",
    "\n",
    "# Iterate over each year and area\n",
    "for year in years:\n",
    "        csv_file = io.StringIO()\n",
    "        headers_fetched = False\n",
    "        for area in area_list:\n",
    "            response = requests.get(f\"https://www.onemap.gov.sg/api/public/popapi/getEconomicStatus?planningArea={area}&year={year}\", headers=headers, timeout=1.5)\n",
    "            data = response.json()\n",
    "\n",
    "            if response.status_code == 200 and data:\n",
    "                # Initialize CSV writer with headers from the first successful response\n",
    "                if not headers_fetched:\n",
    "                    if 'Result' in data and data['Result'] == \"No Data Available!\":\n",
    "                        continue  # Skip to the next area if no data available\n",
    "                    else:\n",
    "                        fieldnames = data[0].keys()  \n",
    "                        csv_writer = csv.DictWriter(csv_file, fieldnames=fieldnames)\n",
    "                        csv_writer.writeheader()\n",
    "                        headers_fetched = True\n",
    "                \n",
    "                if 'Result' not in data or data['Result'] != \"No Data Available!\":\n",
    "                    for item in data:\n",
    "                        csv_writer.writerow(item)\n",
    "                    print(f\"Completed: {area} in {year} has been logged.\")\n",
    "                else:\n",
    "                    print(f\"Skipped: {area} in {year} has no results.\")\n",
    "            else:\n",
    "                print(f\"Failed to process {area} in {year}.\")\n",
    "\n",
    "        if headers_fetched:  # Only proceed if we successfully fetched headers and wrote some data\n",
    "            print(f\"All areas processed for {year}.\")\n",
    "\n",
    "            csv_file.seek(0)\n",
    "\n",
    "\n",
    "            s3_file_path = f'Economic_Status_Data/' + f'data_year_{year}.csv'\n",
    "\n",
    "            # Upload to S3\n",
    "            s3.Object(\"onemap-s3\", s3_file_path).put(Body=csv_file.getvalue(), ContentType='text/csv')\n",
    "            print(f\"Successfully uploaded to S3: {s3_file_path}\")\n",
    "        \n",
    "        csv_file.close()\n"
   ]
  },
  {
   "cell_type": "markdown",
   "metadata": {},
   "source": [
    "## Fast Method: Asynchronous Multi-Threaded Requests (Economic Status)"
   ]
  },
  {
   "cell_type": "code",
   "execution_count": null,
   "metadata": {},
   "outputs": [],
   "source": [
    "years = ['2000', '2010', '2015', '2020'] \n",
    "max_requests_per_minute = 200\n",
    "request_interval = 60.0 / max_requests_per_minute\n",
    "\n",
    "exception_occurred = False\n",
    "\n",
    "def fetch_data(year, area, start_time, index):\n",
    "    global exception_occurred # To prevent missing values\n",
    "    if exception_occurred:  \n",
    "        return None\n",
    "    time.sleep(max(0, start_time + index * request_interval - time.time()))  # Rate limiting\n",
    "    try:\n",
    "        response = requests.get(f\"https://www.onemap.gov.sg/api/public/popapi/getEconomicStatus?planningArea={area}&year={year}\", headers=headers, timeout=1.5)\n",
    "        data = response.json()\n",
    "        if response.status_code == 200 and data:\n",
    "            if 'Result' in data and data['Result'] == \"No Data Available!\":\n",
    "                print(f\"Skipped: {area} in {year} has no results.\")\n",
    "                return None\n",
    "            else:\n",
    "                print(f\"Completed: {area} in {year} has been logged.\")\n",
    "                return data\n",
    "        else:\n",
    "            print(f\"Failed to process {area} in {year}.\")\n",
    "            return None\n",
    "    except Exception as e:\n",
    "        print(f\"Exception for {area} in {year}: {e}\")\n",
    "        exception_occurred = True \n",
    "        return None\n",
    "\n",
    "def process_year(year):\n",
    "    global exception_occurred # To prevent missing values\n",
    "    csv_file = io.StringIO()\n",
    "    fieldnames = []  \n",
    "    csv_writer = None\n",
    "\n",
    "    start_time = time.time()\n",
    "    with ThreadPoolExecutor(max_workers=10) as executor:\n",
    "        futures = {executor.submit(fetch_data, year, area, start_time, index): area for index, area in enumerate(area_list)}\n",
    "        for future in as_completed(futures):\n",
    "            if exception_occurred:  # Stop processing if an exception occurred\n",
    "                print(\"Halting due to exception.\")\n",
    "                executor.shutdown(wait=False)  \n",
    "                csv_file.close()\n",
    "                sys.exit(1)  # Exit the script\n",
    "\n",
    "            data = future.result()\n",
    "            if data:\n",
    "                if not fieldnames:\n",
    "                    fieldnames = data[0].keys()\n",
    "                    csv_writer = csv.DictWriter(csv_file, fieldnames=fieldnames)\n",
    "                    csv_writer.writeheader()\n",
    "                for item in data:\n",
    "                    csv_writer.writerow(item)\n",
    "\n",
    "    if csv_writer: \n",
    "        csv_file.seek(0)\n",
    "        s3_file_path = f'Economic_Status_Data_Multi/' + f'data_year_{year}.csv'\n",
    "        print(f\"Successfully prepared data for S3 upload: {s3_file_path}\")\n",
    "        s3.Object(\"onemap-s3\", s3_file_path).put(Body=csv_file.getvalue(), ContentType='text/csv')\n",
    "        csv_file.close()\n",
    "\n",
    "for year in years:\n",
    "    if exception_occurred:  # Check for missing value occurrance\n",
    "        print(\"Script stopped due to an earlier exception.\")\n",
    "        break\n",
    "    process_year(year)"
   ]
  },
  {
   "cell_type": "markdown",
   "metadata": {},
   "source": [
    "# Global Functions"
   ]
  },
  {
   "cell_type": "code",
   "execution_count": null,
   "metadata": {},
   "outputs": [],
   "source": [
    "exception_occurred = False\n",
    "def fetch_data(api_config, year, area, start_time, index):\n",
    "    global exception_occurred\n",
    "    if exception_occurred:\n",
    "        return None\n",
    "    time.sleep(max(0, start_time + index * request_interval - time.time()))  # Rate limiting\n",
    "    try:\n",
    "        api_url = f\"{api_config['url']}?planningArea={area}&year={year}\"\n",
    "        response = requests.get(api_url, headers=headers, timeout=1.5)\n",
    "        data = response.json()\n",
    "        if response.status_code == 200 and data:\n",
    "            if 'Result' in data and data['Result'] == \"No Data Available!\":\n",
    "                print(f\"Skipped: {area} in {year} has no results.\")\n",
    "                return None\n",
    "            else:\n",
    "                print(f\"Completed: {area} in {year} has been logged.\")\n",
    "                return data\n",
    "        else:\n",
    "            print(f\"Failed to process {area} in {year}.\")\n",
    "            return None\n",
    "    except Exception as e:\n",
    "        print(f\"Exception for {area} in {year}: {e}\")\n",
    "        exception_occurred = True\n",
    "        return None\n",
    "    \n",
    "def process_year(api_config, year):\n",
    "    global exception_occurred\n",
    "    csv_file = io.StringIO()\n",
    "    fieldnames = []\n",
    "    csv_writer = None\n",
    "\n",
    "    start_time = time.time()\n",
    "    with ThreadPoolExecutor(max_workers=10) as executor:\n",
    "        futures = {executor.submit(fetch_data, api_config, year, area, start_time, index): area for index, area in enumerate(area_list)}\n",
    "        for future in as_completed(futures):\n",
    "            if exception_occurred:\n",
    "                print(\"Halting due to exception.\")\n",
    "                executor.shutdown(wait=False)\n",
    "                csv_file.close()\n",
    "                sys.exit(1)  # Exit the script\n",
    "\n",
    "            data = future.result()\n",
    "            if data:\n",
    "                if not fieldnames:\n",
    "                    fieldnames = data[0].keys()\n",
    "                    csv_writer = csv.DictWriter(csv_file, fieldnames=fieldnames)\n",
    "                    csv_writer.writeheader()\n",
    "                for item in data:\n",
    "                    csv_writer.writerow(item)\n",
    "\n",
    "    if csv_writer:\n",
    "        csv_file.seek(0)\n",
    "        s3_file_path = f'{api_config[\"name\"]}/' + f'data_year_{year}.csv'\n",
    "        print(f\"Successfully prepared data for S3 upload: {s3_file_path}\")\n",
    "        s3.Object(\"onemap-s3\", s3_file_path).put(Body=csv_file.getvalue(), ContentType='text/csv')\n",
    "        csv_file.close()\n",
    "\n"
   ]
  },
  {
   "cell_type": "markdown",
   "metadata": {},
   "source": [
    "## Asynchronous Multi-Threaded Requests (Education Status)"
   ]
  },
  {
   "cell_type": "code",
   "execution_count": null,
   "metadata": {},
   "outputs": [],
   "source": [
    "year = ['2000', '2010', '2015', '2020'] \n",
    "api_configs = [\n",
    "    {\n",
    "        \"name\": \"Education_Status_Data\",\n",
    "        \"url\": \"https://www.onemap.gov.sg/api/public/popapi/getEducationAttending\"\n",
    "    }\n",
    "]\n",
    "for api_config in api_configs:\n",
    "    for year in years:\n",
    "        if exception_occurred:\n",
    "            print(\"Script stopped due to an earlier exception.\")\n",
    "            break\n",
    "        process_year(api_config, year)\n",
    "        "
   ]
  },
  {
   "cell_type": "markdown",
   "metadata": {},
   "source": [
    "## Asynchronous Multi-Threaded Requests (Ethnic Distribution Data)"
   ]
  },
  {
   "cell_type": "code",
   "execution_count": null,
   "metadata": {},
   "outputs": [],
   "source": [
    "year = ['2000', '2010', '2015', '2020'] \n",
    "api_configs = [\n",
    "    {\n",
    "        \"name\": \"Ethnic Distribution_Data\",\n",
    "        \"url\": \"https://www.onemap.gov.sg/api/public/popapi/getEthnicGroup\"\n",
    "    }\n",
    "]\n",
    "for api_config in api_configs:\n",
    "    for year in years:\n",
    "        if exception_occurred:\n",
    "            print(\"Script stopped due to an earlier exception.\")\n",
    "            break\n",
    "        process_year(api_config, year)"
   ]
  },
  {
   "cell_type": "markdown",
   "metadata": {},
   "source": [
    "## Asynchronous Multi-Threaded Requests (Work Income for Household monthly)"
   ]
  },
  {
   "cell_type": "code",
   "execution_count": null,
   "metadata": {},
   "outputs": [],
   "source": [
    "year = ['2000', '2010', '2015', '2020'] \n",
    "api_configs = [\n",
    "    {\n",
    "        \"name\": \"Work_Income_Household_Monthly_Data\",\n",
    "        \"url\": \"https://www.onemap.gov.sg/api/public/popapi/getHouseholdMonthlyIncomeWork\"\n",
    "    }\n",
    "]\n",
    "for api_config in api_configs:\n",
    "    for year in years:\n",
    "        if exception_occurred:\n",
    "            print(\"Script stopped due to an earlier exception.\")\n",
    "            break\n",
    "        process_year(api_config, year)"
   ]
  },
  {
   "cell_type": "markdown",
   "metadata": {},
   "source": [
    "## Asynchronous Multi-Threaded Requests (Household Size Data)"
   ]
  },
  {
   "cell_type": "code",
   "execution_count": null,
   "metadata": {},
   "outputs": [],
   "source": [
    "year = ['2000', '2010', '2015', '2020'] \n",
    "api_configs = [\n",
    "    {\n",
    "        \"name\": \"Household_Size_Data\",\n",
    "        \"url\": \"https://www.onemap.gov.sg/api/public/popapi/getHouseholdSize\"\n",
    "    }\n",
    "]\n",
    "for api_config in api_configs:\n",
    "    for year in years:\n",
    "        if exception_occurred:\n",
    "            print(\"Script stopped due to an earlier exception.\")\n",
    "            break\n",
    "        process_year(api_config, year)"
   ]
  },
  {
   "cell_type": "markdown",
   "metadata": {},
   "source": [
    "## Asynchronous Multi-Threaded Requests (Household Structure Data)"
   ]
  },
  {
   "cell_type": "code",
   "execution_count": null,
   "metadata": {},
   "outputs": [],
   "source": [
    "year = ['2000', '2010', '2015', '2020'] \n",
    "api_configs = [\n",
    "    {\n",
    "        \"name\": \"Household_Structure_Data\",\n",
    "        \"url\": \"https://www.onemap.gov.sg/api/public/popapi/getHouseholdStructure\"\n",
    "    }\n",
    "]\n",
    "for api_config in api_configs:\n",
    "    for year in years:\n",
    "        if exception_occurred:\n",
    "            print(\"Script stopped due to an earlier exception.\")\n",
    "            break\n",
    "        process_year(api_config, year)"
   ]
  },
  {
   "cell_type": "markdown",
   "metadata": {},
   "source": [
    "## Asynchronous Multi-Threaded Requests (Income from Work Data)"
   ]
  },
  {
   "cell_type": "code",
   "execution_count": null,
   "metadata": {},
   "outputs": [],
   "source": [
    "year = ['2000', '2010', '2015', '2020'] \n",
    "api_configs = [\n",
    "    {\n",
    "        \"name\": \"Income_Work_Data\",\n",
    "        \"url\": \"https://www.onemap.gov.sg/api/public/popapi/getIncomeFromWork\"\n",
    "    }\n",
    "]\n",
    "for api_config in api_configs:\n",
    "    for year in years:\n",
    "        if exception_occurred:\n",
    "            print(\"Script stopped due to an earlier exception.\")\n",
    "            break\n",
    "        process_year(api_config, year)"
   ]
  },
  {
   "cell_type": "markdown",
   "metadata": {},
   "source": [
    "## Asynchronous Multi-Threaded Requests (Industry of Population)"
   ]
  },
  {
   "cell_type": "code",
   "execution_count": null,
   "metadata": {},
   "outputs": [],
   "source": [
    "year = ['2000', '2010', '2015', '2020'] \n",
    "api_configs = [\n",
    "    {\n",
    "        \"name\": \"Industry_Population_Data\",\n",
    "        \"url\": \"https://www.onemap.gov.sg/api/public/popapi/getIndustry\"\n",
    "    }\n",
    "]\n",
    "for api_config in api_configs:\n",
    "    for year in years:\n",
    "        if exception_occurred:\n",
    "            print(\"Script stopped due to an earlier exception.\")\n",
    "            break\n",
    "        process_year(api_config, year)"
   ]
  },
  {
   "cell_type": "markdown",
   "metadata": {},
   "source": [
    "## Asynchronous Multi-Threaded Requests (Language Literacy Data)"
   ]
  },
  {
   "cell_type": "code",
   "execution_count": null,
   "metadata": {},
   "outputs": [],
   "source": [
    "year = ['2000', '2010', '2015', '2020'] \n",
    "api_configs = [\n",
    "    {\n",
    "        \"name\": \"Language_Literacy_Data\",\n",
    "        \"url\": \"https://www.onemap.gov.sg/api/public/popapi/getLanguageLiterate\"\n",
    "    }\n",
    "]\n",
    "for api_config in api_configs:\n",
    "    for year in years:\n",
    "        if exception_occurred:\n",
    "            print(\"Script stopped due to an earlier exception.\")\n",
    "            break\n",
    "        process_year(api_config, year)"
   ]
  },
  {
   "cell_type": "markdown",
   "metadata": {},
   "source": [
    "## Asynchronous Multi-Threaded Requests (Marital Status Data)"
   ]
  },
  {
   "cell_type": "code",
   "execution_count": null,
   "metadata": {},
   "outputs": [],
   "source": [
    "year = ['2000', '2010', '2015', '2020'] \n",
    "api_configs = [\n",
    "    {\n",
    "        \"name\": \"Marital_Status_Data\",\n",
    "        \"url\": \"https://www.onemap.gov.sg/api/public/popapi/getMaritalStatus\"\n",
    "    }\n",
    "]\n",
    "for api_config in api_configs:\n",
    "    for year in years:\n",
    "        if exception_occurred:\n",
    "            print(\"Script stopped due to an earlier exception.\")\n",
    "            break\n",
    "        process_year(api_config, year)"
   ]
  },
  {
   "cell_type": "markdown",
   "metadata": {},
   "source": [
    "## Asynchronous Multi-Threaded Requests (Mode of Transport to School)"
   ]
  },
  {
   "cell_type": "code",
   "execution_count": null,
   "metadata": {},
   "outputs": [],
   "source": [
    "year = ['2000', '2010', '2015', '2020'] \n",
    "api_configs = [\n",
    "    {\n",
    "        \"name\": \"Mode_Transport_School_Data\",\n",
    "        \"url\": \"https://www.onemap.gov.sg/api/public/popapi/getModeOfTransportSchool\"\n",
    "    }\n",
    "]\n",
    "for api_config in api_configs:\n",
    "    for year in years:\n",
    "        if exception_occurred:\n",
    "            print(\"Script stopped due to an earlier exception.\")\n",
    "            break\n",
    "        process_year(api_config, year)"
   ]
  },
  {
   "cell_type": "markdown",
   "metadata": {},
   "source": [
    "## Asynchronous Multi-Threaded Requests (Mode of Transport to Work)"
   ]
  },
  {
   "cell_type": "code",
   "execution_count": null,
   "metadata": {},
   "outputs": [],
   "source": [
    "year = ['2000', '2010', '2015', '2020'] \n",
    "api_configs = [\n",
    "    {\n",
    "        \"name\": \"Mode_Transport_Work_Data\",\n",
    "        \"url\": \"https://www.onemap.gov.sg/api/public/popapi/getModeOfTransportWork\"\n",
    "    }\n",
    "]\n",
    "for api_config in api_configs:\n",
    "    for year in years:\n",
    "        if exception_occurred:\n",
    "            print(\"Script stopped due to an earlier exception.\")\n",
    "            break\n",
    "        process_year(api_config, year)"
   ]
  },
  {
   "cell_type": "markdown",
   "metadata": {},
   "source": [
    "## Asynchronous Multi-Threaded Requests (Age Data)"
   ]
  },
  {
   "cell_type": "code",
   "execution_count": null,
   "metadata": {},
   "outputs": [],
   "source": [
    "year = ['2000', '2010', '2015', '2020'] \n",
    "api_configs = [\n",
    "    {\n",
    "        \"name\": \"Age_Data\",\n",
    "        \"url\": \"https://www.onemap.gov.sg/api/public/popapi/getPopulationAgeGroup\"\n",
    "    }\n",
    "]\n",
    "for api_config in api_configs:\n",
    "    for year in years:\n",
    "        if exception_occurred:\n",
    "            print(\"Script stopped due to an earlier exception.\")\n",
    "            break\n",
    "        process_year(api_config, year)"
   ]
  },
  {
   "cell_type": "markdown",
   "metadata": {},
   "source": [
    "## Asynchronous Multi-Threaded Requests (Religion Data)"
   ]
  },
  {
   "cell_type": "code",
   "execution_count": null,
   "metadata": {},
   "outputs": [],
   "source": [
    "year = ['2000', '2010', '2015', '2020'] \n",
    "api_configs = [\n",
    "    {\n",
    "        \"name\": \"Religion_Data\",\n",
    "        \"url\": \"https://www.onemap.gov.sg/api/public/popapi/getReligion\"\n",
    "    }\n",
    "]\n",
    "for api_config in api_configs:\n",
    "    for year in years:\n",
    "        if exception_occurred:\n",
    "            print(\"Script stopped due to an earlier exception.\")\n",
    "            break\n",
    "        process_year(api_config, year)"
   ]
  },
  {
   "cell_type": "markdown",
   "metadata": {},
   "source": [
    "## Asynchronous Multi-Threaded Requests (Spoken Language Data)"
   ]
  },
  {
   "cell_type": "code",
   "execution_count": null,
   "metadata": {},
   "outputs": [],
   "source": [
    "year = ['2000', '2010', '2015', '2020'] \n",
    "api_configs = [\n",
    "    {\n",
    "        \"name\": \"Spoken_Language_Data\",\n",
    "        \"url\": \"https://www.onemap.gov.sg/api/public/popapi/getSpokenAtHome\"\n",
    "    }\n",
    "]\n",
    "for api_config in api_configs:\n",
    "    for year in years:\n",
    "        if exception_occurred:\n",
    "            print(\"Script stopped due to an earlier exception.\")\n",
    "            break\n",
    "        process_year(api_config, year)"
   ]
  },
  {
   "cell_type": "markdown",
   "metadata": {},
   "source": [
    "## Asynchronous Multi-Threaded Requests (Tenancy Data)"
   ]
  },
  {
   "cell_type": "code",
   "execution_count": null,
   "metadata": {},
   "outputs": [],
   "source": [
    "year = ['2000', '2010', '2015', '2020'] \n",
    "api_configs = [\n",
    "    {\n",
    "        \"name\": \"Tenancy_Data\",\n",
    "        \"url\": \"https://www.onemap.gov.sg/api/public/popapi/getTenancy\"\n",
    "    }\n",
    "]\n",
    "for api_config in api_configs:\n",
    "    for year in years:\n",
    "        if exception_occurred:\n",
    "            print(\"Script stopped due to an earlier exception.\")\n",
    "            break\n",
    "        process_year(api_config, year)"
   ]
  },
  {
   "cell_type": "markdown",
   "metadata": {},
   "source": [
    "## Asynchronous Multi-Threaded Requests (Dwelling Type Household Data)"
   ]
  },
  {
   "cell_type": "code",
   "execution_count": null,
   "metadata": {},
   "outputs": [],
   "source": [
    "year = ['2000', '2010', '2015', '2020'] \n",
    "api_configs = [\n",
    "    {\n",
    "        \"name\": \"Dwelling_Type_Household_Data\",\n",
    "        \"url\": \"https://www.onemap.gov.sg/api/public/popapi/getTypeOfDwellingHousehold\"\n",
    "    }\n",
    "]\n",
    "for api_config in api_configs:\n",
    "    for year in years:\n",
    "        if exception_occurred:\n",
    "            print(\"Script stopped due to an earlier exception.\")\n",
    "            break\n",
    "        process_year(api_config, year)"
   ]
  },
  {
   "cell_type": "markdown",
   "metadata": {},
   "source": [
    "## Asynchronous Multi-Threaded Requests (Dwelling Type Population Data)"
   ]
  },
  {
   "cell_type": "code",
   "execution_count": null,
   "metadata": {},
   "outputs": [],
   "source": [
    "year = ['2000', '2010', '2015', '2020'] \n",
    "api_configs = [\n",
    "    {\n",
    "        \"name\": \"Dwelling_Type_Population_Data\",\n",
    "        \"url\": \"https://www.onemap.gov.sg/api/public/popapi/getTypeOfDwellingPop\"\n",
    "    }\n",
    "]\n",
    "for api_config in api_configs:\n",
    "    for year in years:\n",
    "        if exception_occurred:\n",
    "            print(\"Script stopped due to an earlier exception.\")\n",
    "            break\n",
    "        process_year(api_config, year)"
   ]
  },
  {
   "cell_type": "markdown",
   "metadata": {},
   "source": [
    "# The End."
   ]
  }
 ],
 "metadata": {
  "kernelspec": {
   "display_name": "Python 3",
   "language": "python",
   "name": "python3"
  },
  "language_info": {
   "codemirror_mode": {
    "name": "ipython",
    "version": 3
   },
   "file_extension": ".py",
   "mimetype": "text/x-python",
   "name": "python",
   "nbconvert_exporter": "python",
   "pygments_lexer": "ipython3",
   "version": "3.11.3"
  }
 },
 "nbformat": 4,
 "nbformat_minor": 2
}
