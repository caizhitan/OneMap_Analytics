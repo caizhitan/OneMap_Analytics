{
 "cells": [
  {
   "cell_type": "markdown",
   "metadata": {},
   "source": [
    "# Collecting Our Economic Status Data"
   ]
  },
  {
   "cell_type": "markdown",
   "metadata": {},
   "source": [
    "## Import Libraries"
   ]
  },
  {
   "cell_type": "code",
   "execution_count": 2,
   "metadata": {},
   "outputs": [],
   "source": [
    "import requests\n",
    "import os\n",
    "import io\n",
    "import boto3"
   ]
  },
  {
   "cell_type": "markdown",
   "metadata": {},
   "source": [
    "## Starting our AWS Session"
   ]
  },
  {
   "cell_type": "code",
   "execution_count": 3,
   "metadata": {},
   "outputs": [],
   "source": [
    "session = boto3.Session(profile_name='personal-onemap')\n",
    "s3 = session.resource('s3')"
   ]
  },
  {
   "cell_type": "markdown",
   "metadata": {},
   "source": [
    "## Import API Authorisation Key"
   ]
  },
  {
   "cell_type": "code",
   "execution_count": 4,
   "metadata": {},
   "outputs": [],
   "source": [
    "# For OneMap Account Key\n",
    "from dotenv import load_dotenv\n",
    "load_dotenv()\n",
    "account_key = os.getenv('ONEMAP_KEY')\n",
    "headers = {'Authorization': f'Bearer {account_key}'}"
   ]
  },
  {
   "cell_type": "markdown",
   "metadata": {},
   "source": [
    "## Count number of areas in Singapore"
   ]
  },
  {
   "cell_type": "code",
   "execution_count": 5,
   "metadata": {},
   "outputs": [
    {
     "name": "stdout",
     "output_type": "stream",
     "text": [
      "Number of areas: 55\n",
      "['BEDOK', 'BUKIT TIMAH', 'BUKIT BATOK', 'BUKIT MERAH', 'CENTRAL WATER CATCHMENT', 'DOWNTOWN CORE', 'CHANGI', 'CHANGI BAY', 'LIM CHU KANG', 'BOON LAY', 'WESTERN WATER CATCHMENT', 'WOODLANDS', 'MARINE PARADE', 'NEWTON', 'NORTH-EASTERN ISLANDS', 'ORCHARD', 'PASIR RIS', 'PIONEER', 'PUNGGOL', 'QUEENSTOWN', 'SEMBAWANG', 'SIMPANG', 'TAMPINES', 'TANGLIN', 'TUAS', 'WESTERN ISLANDS', 'SOUTHERN ISLANDS', 'BUKIT PANJANG', 'BISHAN', 'ANG MO KIO', 'GEYLANG', 'STRAITS VIEW', 'JURONG EAST', 'HOUGANG', 'JURONG WEST', 'CHOA CHU KANG', 'KALLANG', 'MANDAI', 'TENGAH', 'MARINA EAST', 'MARINA SOUTH', 'MUSEUM', 'NOVENA', 'OUTRAM', 'PAYA LEBAR', 'RIVER VALLEY', 'ROCHOR', 'SELETAR', 'SENGKANG', 'SERANGOON', 'CLEMENTI', 'TOA PAYOH', 'SINGAPORE RIVER', 'SUNGEI KADUT', 'YISHUN']\n"
     ]
    }
   ],
   "source": [
    "api_url = \"https://www.onemap.gov.sg/api/public/popapi/getPlanningareaNames?year=2019\" # Latest info from 2019\n",
    "\n",
    "response = requests.get(api_url, headers=headers, timeout=1)\n",
    "data = response.json()\n",
    "\n",
    "# Count number of area codes\n",
    "area_count = sum(1 for item in data if \"pln_area_n\" in item)\n",
    "print(f'Number of areas: {area_count}')\n",
    "\n",
    "# Save our area codes into List\n",
    "area_list = [item['pln_area_n'] for item in data if \"pln_area_n\" in item]\n",
    "print(area_list)\n"
   ]
  },
  {
   "cell_type": "markdown",
   "metadata": {},
   "source": [
    "## Test API Output"
   ]
  },
  {
   "cell_type": "code",
   "execution_count": 6,
   "metadata": {},
   "outputs": [
    {
     "name": "stdout",
     "output_type": "stream",
     "text": [
      "<Response [200]>\n",
      "[{'planning_area': 'Bedok', 'employed': 71767, 'unemployed': 4653, 'inactive': 26300, 'year': 2000, 'gender': 'Male'}]\n"
     ]
    }
   ],
   "source": [
    "response = requests.get(f\"https://www.onemap.gov.sg/api/public/popapi/getEconomicStatus?planningArea=Bedok&year=2000&gender=male\", headers=headers, timeout=1)\n",
    "data = response.json()\n",
    "\n",
    "print(response)\n",
    "print(data)"
   ]
  },
  {
   "cell_type": "markdown",
   "metadata": {},
   "source": [
    "## Retriving Economic Status in 2000 for Males"
   ]
  },
  {
   "cell_type": "code",
   "execution_count": null,
   "metadata": {},
   "outputs": [],
   "source": [
    "year = '2000'  \n",
    "gender = 'male'  \n",
    "\n",
    "\n",
    "csv_file = io.StringIO()\n",
    "csv_file.write('planning_area,employed,unemployed,inactive,year,gender\\n')\n",
    "\n",
    "for area in area_list:\n",
    "    response = requests.get(f\"https://www.onemap.gov.sg/api/public/popapi/getEconomicStatus?planningArea={area}&year={year}&gender={gender}\", headers=headers, timeout=1)\n",
    "    data = response.json()\n",
    "    \n",
    "    if response.status_code == 200:\n",
    "        # Check for the specific case of \"No Data Available!\" (When Area has not been created since 2019)\n",
    "        if 'Result' in data and data['Result'] == \"No Data Available!\":\n",
    "            print(f\"{area} has no results.\")\n",
    "        elif data:\n",
    "            for item in data:\n",
    "                csv_file.write(f\"{item['planning_area']},{item['employed']},{item['unemployed']},{item['inactive']},{item['year']},{item['gender']}\\n\")\n",
    "            print(f\"Success: {area} has been logged.\")\n",
    "    else:\n",
    "        print(f\"Failed to process {area}.\")\n",
    "\n",
    "print(\"All areas processed.\")\n",
    "\n",
    "# Move back to start of the file\n",
    "csv_file.seek(0)\n",
    "\n",
    "# Upload to S3\n",
    "s3.Object(\"onemap-s3\", f'Economic_Status_Data/{year}/' + f'economic_status_by_area_{year}_{gender}.csv').put(Body=csv_file.getvalue(), ContentType='text/csv')\n",
    "csv_file.close()\n",
    "\n",
    "print(f\"Successfully Uploaded to S3\")\n"
   ]
  },
  {
   "cell_type": "markdown",
   "metadata": {},
   "source": [
    "## Retriving Economic Status in 2000 for Females"
   ]
  },
  {
   "cell_type": "code",
   "execution_count": null,
   "metadata": {},
   "outputs": [],
   "source": [
    "year = '2000'  \n",
    "gender = 'female'  \n",
    "\n",
    "\n",
    "csv_file = io.StringIO()\n",
    "csv_file.write('planning_area,employed,unemployed,inactive,year,gender\\n')\n",
    "\n",
    "for area in area_list:\n",
    "    response = requests.get(f\"https://www.onemap.gov.sg/api/public/popapi/getEconomicStatus?planningArea={area}&year={year}&gender={gender}\", headers=headers, timeout=1.2)\n",
    "    data = response.json()\n",
    "    \n",
    "    if response.status_code == 200:\n",
    "        # Check for the specific case of \"No Data Available!\" (When Area has not been created since 2019)\n",
    "        if 'Result' in data and data['Result'] == \"No Data Available!\":\n",
    "            print(f\"{area} has no results.\")\n",
    "        elif data:\n",
    "            for item in data:\n",
    "                csv_file.write(f\"{item['planning_area']},{item['employed']},{item['unemployed']},{item['inactive']},{item['year']},{item['gender']}\\n\")\n",
    "            print(f\"Success: {area} has been logged.\")\n",
    "    else:\n",
    "        print(f\"Failed to process {area}.\")\n",
    "\n",
    "print(\"All areas processed.\")\n",
    "\n",
    "# Move back to start of the file\n",
    "csv_file.seek(0)\n",
    "\n",
    "# Upload to S3\n",
    "s3.Object(\"onemap-s3\", f'Economic_Status_Data/{year}/' + f'economic_status_by_area_{year}_{gender}.csv').put(Body=csv_file.getvalue(), ContentType='text/csv')\n",
    "csv_file.close()\n",
    "\n",
    "print(f\"Successfully Uploaded to S3\")\n"
   ]
  },
  {
   "cell_type": "markdown",
   "metadata": {},
   "source": [
    "## Retriving Economic Status in 2010 for Males"
   ]
  },
  {
   "cell_type": "code",
   "execution_count": null,
   "metadata": {},
   "outputs": [],
   "source": [
    "year = '2010'  \n",
    "gender = 'male'  \n",
    "\n",
    "\n",
    "csv_file = io.StringIO()\n",
    "csv_file.write('planning_area,employed,unemployed,inactive,year,gender\\n')\n",
    "\n",
    "for area in area_list:\n",
    "    response = requests.get(f\"https://www.onemap.gov.sg/api/public/popapi/getEconomicStatus?planningArea={area}&year={year}&gender={gender}\", headers=headers, timeout=1)\n",
    "    data = response.json()\n",
    "    \n",
    "    if response.status_code == 200:\n",
    "        # Check for the specific case of \"No Data Available!\" (When Area has not been created since 2019)\n",
    "        if 'Result' in data and data['Result'] == \"No Data Available!\":\n",
    "            print(f\"{area} has no results.\")\n",
    "        elif data:\n",
    "            for item in data:\n",
    "                csv_file.write(f\"{item['planning_area']},{item['employed']},{item['unemployed']},{item['inactive']},{item['year']},{item['gender']}\\n\")\n",
    "            print(f\"Success: {area} has been logged.\")\n",
    "    else:\n",
    "        print(f\"Failed to process {area}.\")\n",
    "\n",
    "print(\"All areas processed.\")\n",
    "\n",
    "# Move back to start of the file\n",
    "csv_file.seek(0)\n",
    "\n",
    "# Upload to S3\n",
    "s3.Object(\"onemap-s3\", f'Economic_Status_Data/{year}/' + f'economic_status_by_area_{year}_{gender}.csv').put(Body=csv_file.getvalue(), ContentType='text/csv')\n",
    "csv_file.close()\n",
    "\n",
    "print(f\"Successfully Uploaded to S3\")\n"
   ]
  },
  {
   "cell_type": "markdown",
   "metadata": {},
   "source": [
    "## Retriving Economic Status in 2010 for Females"
   ]
  },
  {
   "cell_type": "code",
   "execution_count": null,
   "metadata": {},
   "outputs": [],
   "source": [
    "year = '2010'  \n",
    "gender = 'female'  \n",
    "\n",
    "\n",
    "csv_file = io.StringIO()\n",
    "csv_file.write('planning_area,employed,unemployed,inactive,year,gender\\n')\n",
    "\n",
    "for area in area_list:\n",
    "    response = requests.get(f\"https://www.onemap.gov.sg/api/public/popapi/getEconomicStatus?planningArea={area}&year={year}&gender={gender}\", headers=headers, timeout=1)\n",
    "    data = response.json()\n",
    "    \n",
    "    if response.status_code == 200:\n",
    "        # Check for the specific case of \"No Data Available!\" (When Area has not been created since 2019)\n",
    "        if 'Result' in data and data['Result'] == \"No Data Available!\":\n",
    "            print(f\"{area} has no results.\")\n",
    "        elif data:\n",
    "            for item in data:\n",
    "                csv_file.write(f\"{item['planning_area']},{item['employed']},{item['unemployed']},{item['inactive']},{item['year']},{item['gender']}\\n\")\n",
    "            print(f\"Success: {area} has been logged.\")\n",
    "    else:\n",
    "        print(f\"Failed to process {area}.\")\n",
    "\n",
    "print(\"All areas processed.\")\n",
    "\n",
    "# Move back to start of the file\n",
    "csv_file.seek(0)\n",
    "\n",
    "# Upload to S3\n",
    "s3.Object(\"onemap-s3\", f'Economic_Status_Data/{year}/' + f'economic_status_by_area_{year}_{gender}.csv').put(Body=csv_file.getvalue(), ContentType='text/csv')\n",
    "csv_file.close()\n",
    "\n",
    "print(f\"Successfully Uploaded to S3\")\n"
   ]
  },
  {
   "cell_type": "markdown",
   "metadata": {},
   "source": [
    "## Retriving Economic Status in 2015 for Males"
   ]
  },
  {
   "cell_type": "code",
   "execution_count": null,
   "metadata": {},
   "outputs": [],
   "source": [
    "year = '2015'  \n",
    "gender = 'male'  \n",
    "\n",
    "\n",
    "csv_file = io.StringIO()\n",
    "csv_file.write('planning_area,employed,unemployed,inactive,year,gender\\n')\n",
    "\n",
    "for area in area_list:\n",
    "    response = requests.get(f\"https://www.onemap.gov.sg/api/public/popapi/getEconomicStatus?planningArea={area}&year={year}&gender={gender}\", headers=headers, timeout=1)\n",
    "    data = response.json()\n",
    "    \n",
    "    if response.status_code == 200:\n",
    "        # Check for the specific case of \"No Data Available!\" (When Area has not been created since 2019)\n",
    "        if 'Result' in data and data['Result'] == \"No Data Available!\":\n",
    "            print(f\"{area} has no results.\")\n",
    "        elif data:\n",
    "            for item in data:\n",
    "                csv_file.write(f\"{item['planning_area']},{item['employed']},{item['unemployed']},{item['inactive']},{item['year']},{item['gender']}\\n\")\n",
    "            print(f\"Success: {area} has been logged.\")\n",
    "    else:\n",
    "        print(f\"Failed to process {area}.\")\n",
    "\n",
    "print(\"All areas processed.\")\n",
    "\n",
    "# Move back to start of the file\n",
    "csv_file.seek(0)\n",
    "\n",
    "# Upload to S3\n",
    "s3.Object(\"onemap-s3\", f'Economic_Status_Data/{year}/' + f'economic_status_by_area_{year}_{gender}.csv').put(Body=csv_file.getvalue(), ContentType='text/csv')\n",
    "csv_file.close()\n",
    "\n",
    "print(f\"Successfully Uploaded to S3\")\n"
   ]
  },
  {
   "cell_type": "markdown",
   "metadata": {},
   "source": [
    "## Retriving Economic Status in 2015 for Females"
   ]
  },
  {
   "cell_type": "code",
   "execution_count": null,
   "metadata": {},
   "outputs": [],
   "source": [
    "year = '2015'  \n",
    "gender = 'female'  \n",
    "\n",
    "\n",
    "csv_file = io.StringIO()\n",
    "csv_file.write('planning_area,employed,unemployed,inactive,year,gender\\n')\n",
    "\n",
    "for area in area_list:\n",
    "    response = requests.get(f\"https://www.onemap.gov.sg/api/public/popapi/getEconomicStatus?planningArea={area}&year={year}&gender={gender}\", headers=headers, timeout=1)\n",
    "    data = response.json()\n",
    "    \n",
    "    if response.status_code == 200:\n",
    "        # Check for the specific case of \"No Data Available!\" (When Area has not been created since 2019)\n",
    "        if 'Result' in data and data['Result'] == \"No Data Available!\":\n",
    "            print(f\"{area} has no results.\")\n",
    "        elif data:\n",
    "            for item in data:\n",
    "                csv_file.write(f\"{item['planning_area']},{item['employed']},{item['unemployed']},{item['inactive']},{item['year']},{item['gender']}\\n\")\n",
    "            print(f\"Success: {area} has been logged.\")\n",
    "    else:\n",
    "        print(f\"Failed to process {area}.\")\n",
    "\n",
    "print(\"All areas processed.\")\n",
    "\n",
    "# Move back to start of the file\n",
    "csv_file.seek(0)\n",
    "\n",
    "# Upload to S3\n",
    "s3.Object(\"onemap-s3\", f'Economic_Status_Data/{year}/' + f'economic_status_by_area_{year}_{gender}.csv').put(Body=csv_file.getvalue(), ContentType='text/csv')\n",
    "csv_file.close()\n",
    "\n",
    "print(f\"Successfully Uploaded to S3\")\n"
   ]
  },
  {
   "cell_type": "markdown",
   "metadata": {},
   "source": [
    "## Retriving Economic Status in 2020 for Males"
   ]
  },
  {
   "cell_type": "code",
   "execution_count": null,
   "metadata": {},
   "outputs": [],
   "source": [
    "year = '2020'  \n",
    "gender = 'male'  \n",
    "\n",
    "\n",
    "csv_file = io.StringIO()\n",
    "csv_file.write('planning_area,employed,unemployed,inactive,year,gender\\n')\n",
    "\n",
    "for area in area_list:\n",
    "    response = requests.get(f\"https://www.onemap.gov.sg/api/public/popapi/getEconomicStatus?planningArea={area}&year={year}&gender={gender}\", headers=headers, timeout=1)\n",
    "    data = response.json()\n",
    "    \n",
    "    if response.status_code == 200:\n",
    "        # Check for the specific case of \"No Data Available!\" (When Area has not been created since 2019)\n",
    "        if 'Result' in data and data['Result'] == \"No Data Available!\":\n",
    "            print(f\"{area} has no results.\")\n",
    "        elif data:\n",
    "            for item in data:\n",
    "                csv_file.write(f\"{item['planning_area']},{item['employed']},{item['unemployed']},{item['inactive']},{item['year']},{item['gender']}\\n\")\n",
    "            print(f\"Success: {area} has been logged.\")\n",
    "    else:\n",
    "        print(f\"Failed to process {area}.\")\n",
    "\n",
    "print(\"All areas processed.\")\n",
    "\n",
    "# Move back to start of the file\n",
    "csv_file.seek(0)\n",
    "\n",
    "# Upload to S3\n",
    "s3.Object(\"onemap-s3\", f'Economic_Status_Data/{year}/' + f'economic_status_by_area_{year}_{gender}.csv').put(Body=csv_file.getvalue(), ContentType='text/csv')\n",
    "csv_file.close()\n",
    "\n",
    "print(f\"Successfully Uploaded to S3\")\n"
   ]
  },
  {
   "cell_type": "markdown",
   "metadata": {},
   "source": [
    "## Retriving Economic Status in 2020 for Females"
   ]
  },
  {
   "cell_type": "code",
   "execution_count": null,
   "metadata": {},
   "outputs": [],
   "source": [
    "year = '2020'  \n",
    "gender = 'female'  \n",
    "\n",
    "\n",
    "csv_file = io.StringIO()\n",
    "csv_file.write('planning_area,employed,unemployed,inactive,year,gender\\n')\n",
    "\n",
    "for area in area_list:\n",
    "    response = requests.get(f\"https://www.onemap.gov.sg/api/public/popapi/getEconomicStatus?planningArea={area}&year={year}&gender={gender}\", headers=headers, timeout=1)\n",
    "    data = response.json()\n",
    "    \n",
    "    if response.status_code == 200:\n",
    "        # Check for the specific case of \"No Data Available!\" (When Area has not been created since 2019)\n",
    "        if 'Result' in data and data['Result'] == \"No Data Available!\":\n",
    "            print(f\"{area} has no results.\")\n",
    "        elif data:\n",
    "            for item in data:\n",
    "                csv_file.write(f\"{item['planning_area']},{item['employed']},{item['unemployed']},{item['inactive']},{item['year']},{item['gender']}\\n\")\n",
    "            print(f\"Success: {area} has been logged.\")\n",
    "    else:\n",
    "        print(f\"Failed to process {area}.\")\n",
    "\n",
    "print(\"All areas processed.\")\n",
    "\n",
    "# Move back to start of the file\n",
    "csv_file.seek(0)\n",
    "\n",
    "# Upload to S3\n",
    "s3.Object(\"onemap-s3\", f'Economic_Status_Data/{year}/' + f'economic_status_by_area_{year}_{gender}.csv').put(Body=csv_file.getvalue(), ContentType='text/csv')\n",
    "csv_file.close()\n",
    "\n",
    "print(f\"Successfully Uploaded to S3\")\n"
   ]
  }
 ],
 "metadata": {
  "kernelspec": {
   "display_name": "Python 3",
   "language": "python",
   "name": "python3"
  },
  "language_info": {
   "codemirror_mode": {
    "name": "ipython",
    "version": 3
   },
   "file_extension": ".py",
   "mimetype": "text/x-python",
   "name": "python",
   "nbconvert_exporter": "python",
   "pygments_lexer": "ipython3",
   "version": "3.11.3"
  }
 },
 "nbformat": 4,
 "nbformat_minor": 2
}
