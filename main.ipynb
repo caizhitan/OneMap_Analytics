{
 "cells": [
  {
   "cell_type": "markdown",
   "metadata": {},
   "source": [
    "## Import Libraries"
   ]
  },
  {
   "cell_type": "code",
   "execution_count": 3,
   "metadata": {},
   "outputs": [],
   "source": [
    "import requests\n",
    "import os"
   ]
  },
  {
   "cell_type": "markdown",
   "metadata": {},
   "source": [
    "## Import API Authorisation Key"
   ]
  },
  {
   "cell_type": "code",
   "execution_count": 4,
   "metadata": {},
   "outputs": [],
   "source": [
    "# For OneMap Account Key\n",
    "from dotenv import load_dotenv\n",
    "load_dotenv()\n",
    "account_key = os.getenv('ONEMAP_KEY')"
   ]
  },
  {
   "cell_type": "markdown",
   "metadata": {},
   "source": [
    "## Count number of areas in Singapore"
   ]
  },
  {
   "cell_type": "code",
   "execution_count": 6,
   "metadata": {},
   "outputs": [
    {
     "name": "stdout",
     "output_type": "stream",
     "text": [
      "Number of areas: 55\n",
      "['BEDOK', 'BUKIT TIMAH', 'BUKIT BATOK', 'BUKIT MERAH', 'CENTRAL WATER CATCHMENT', 'DOWNTOWN CORE', 'CHANGI', 'CHANGI BAY', 'LIM CHU KANG', 'BOON LAY', 'WESTERN WATER CATCHMENT', 'WOODLANDS', 'MARINE PARADE', 'NEWTON', 'NORTH-EASTERN ISLANDS', 'ORCHARD', 'PASIR RIS', 'PIONEER', 'PUNGGOL', 'QUEENSTOWN', 'SEMBAWANG', 'SIMPANG', 'TAMPINES', 'TANGLIN', 'TUAS', 'WESTERN ISLANDS', 'SOUTHERN ISLANDS', 'BUKIT PANJANG', 'BISHAN', 'ANG MO KIO', 'GEYLANG', 'STRAITS VIEW', 'JURONG EAST', 'HOUGANG', 'JURONG WEST', 'CHOA CHU KANG', 'KALLANG', 'MANDAI', 'TENGAH', 'MARINA EAST', 'MARINA SOUTH', 'MUSEUM', 'NOVENA', 'OUTRAM', 'PAYA LEBAR', 'RIVER VALLEY', 'ROCHOR', 'SELETAR', 'SENGKANG', 'SERANGOON', 'CLEMENTI', 'TOA PAYOH', 'SINGAPORE RIVER', 'SUNGEI KADUT', 'YISHUN']\n"
     ]
    }
   ],
   "source": [
    "api_url = \"https://www.onemap.gov.sg/api/public/popapi/getPlanningareaNames?year=2019\"\n",
    "headers = {'Authorization': f'Bearer {account_key}'}\n",
    "\n",
    "\n",
    "response = requests.get(api_url, headers=headers, timeout=0.1)\n",
    "data = response.json()\n",
    "\n",
    "# Count number of area codes\n",
    "pln_area_n_count = sum(1 for item in data if \"pln_area_n\" in item)\n",
    "print(f'Number of areas: {pln_area_n_count}')\n",
    "\n",
    "# Save all area codes into List\n",
    "pln_area_n_list = [item['pln_area_n'] for item in data if \"pln_area_n\" in item]\n",
    "print(pln_area_n_list)\n"
   ]
  },
  {
   "cell_type": "code",
   "execution_count": null,
   "metadata": {},
   "outputs": [],
   "source": []
  }
 ],
 "metadata": {
  "kernelspec": {
   "display_name": "Python 3",
   "language": "python",
   "name": "python3"
  },
  "language_info": {
   "codemirror_mode": {
    "name": "ipython",
    "version": 3
   },
   "file_extension": ".py",
   "mimetype": "text/x-python",
   "name": "python",
   "nbconvert_exporter": "python",
   "pygments_lexer": "ipython3",
   "version": "3.11.3"
  }
 },
 "nbformat": 4,
 "nbformat_minor": 2
}
